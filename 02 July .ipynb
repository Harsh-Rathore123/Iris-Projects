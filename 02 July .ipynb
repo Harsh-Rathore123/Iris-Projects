{
 "cells": [
  {
   "cell_type": "markdown",
   "id": "c55b7227-5a74-4733-82f0-65948ab2b00a",
   "metadata": {},
   "source": [
    "# 1. Reading"
   ]
  },
  {
   "cell_type": "code",
   "execution_count": 11,
   "id": "23c7c6ba-b878-43da-ac4b-494e700e6400",
   "metadata": {},
   "outputs": [],
   "source": [
    "import pandas as pd\n",
    "import numpy as np\n",
    "from sklearn.preprocessing import StandardScaler\n",
    "from sklearn.ensemble import RandomForestRegressor\n",
    "from sklearn.metrics import mean_squared_error, r2_score\n",
    "from sklearn.model_selection import train_test_split"
   ]
  },
  {
   "cell_type": "code",
   "execution_count": 4,
   "id": "99bdba16-b0cc-495a-b34a-2b29dad10546",
   "metadata": {},
   "outputs": [],
   "source": [
    "df = pd.read_csv('iris new.csv')"
   ]
  },
  {
   "cell_type": "markdown",
   "id": "3b44580e-a2dc-447c-92b8-e88aef25e5da",
   "metadata": {},
   "source": [
    "# 2. Display 8 top rows"
   ]
  },
  {
   "cell_type": "code",
   "execution_count": 6,
   "id": "9b9f6d1d-ad9b-4f63-9dd0-b7d278c52ff6",
   "metadata": {},
   "outputs": [
    {
     "data": {
      "text/html": [
       "<div>\n",
       "<style scoped>\n",
       "    .dataframe tbody tr th:only-of-type {\n",
       "        vertical-align: middle;\n",
       "    }\n",
       "\n",
       "    .dataframe tbody tr th {\n",
       "        vertical-align: top;\n",
       "    }\n",
       "\n",
       "    .dataframe thead th {\n",
       "        text-align: right;\n",
       "    }\n",
       "</style>\n",
       "<table border=\"1\" class=\"dataframe\">\n",
       "  <thead>\n",
       "    <tr style=\"text-align: right;\">\n",
       "      <th></th>\n",
       "      <th>Sepal Length (cm)</th>\n",
       "      <th>Sepal Width (cm)</th>\n",
       "      <th>Petal Length (cm)</th>\n",
       "      <th>Petal Width (cm)</th>\n",
       "      <th>Class</th>\n",
       "      <th>Unnamed: 5</th>\n",
       "      <th>Unnamed: 6</th>\n",
       "      <th>alpha</th>\n",
       "      <th>obj</th>\n",
       "      <th>Unnamed: 9</th>\n",
       "      <th>Unnamed: 10</th>\n",
       "    </tr>\n",
       "  </thead>\n",
       "  <tbody>\n",
       "    <tr>\n",
       "      <th>0</th>\n",
       "      <td>7.0</td>\n",
       "      <td>3.2</td>\n",
       "      <td>4.7</td>\n",
       "      <td>1.4</td>\n",
       "      <td>Iris-versicolor</td>\n",
       "      <td>NaN</td>\n",
       "      <td>0.0</td>\n",
       "      <td>0.0</td>\n",
       "      <td>0.0</td>\n",
       "      <td>0</td>\n",
       "      <td>1</td>\n",
       "    </tr>\n",
       "    <tr>\n",
       "      <th>1</th>\n",
       "      <td>6.4</td>\n",
       "      <td>3.2</td>\n",
       "      <td>4.5</td>\n",
       "      <td>1.5</td>\n",
       "      <td>Iris-versicolor</td>\n",
       "      <td>NaN</td>\n",
       "      <td>0.0</td>\n",
       "      <td>NaN</td>\n",
       "      <td>NaN</td>\n",
       "      <td>0</td>\n",
       "      <td>1</td>\n",
       "    </tr>\n",
       "    <tr>\n",
       "      <th>2</th>\n",
       "      <td>6.9</td>\n",
       "      <td>3.1</td>\n",
       "      <td>4.9</td>\n",
       "      <td>1.5</td>\n",
       "      <td>Iris-versicolor</td>\n",
       "      <td>NaN</td>\n",
       "      <td>0.0</td>\n",
       "      <td>NaN</td>\n",
       "      <td>NaN</td>\n",
       "      <td>0</td>\n",
       "      <td>1</td>\n",
       "    </tr>\n",
       "    <tr>\n",
       "      <th>3</th>\n",
       "      <td>5.5</td>\n",
       "      <td>2.3</td>\n",
       "      <td>4.0</td>\n",
       "      <td>1.3</td>\n",
       "      <td>Iris-versicolor</td>\n",
       "      <td>NaN</td>\n",
       "      <td>0.0</td>\n",
       "      <td>NaN</td>\n",
       "      <td>NaN</td>\n",
       "      <td>0</td>\n",
       "      <td>1</td>\n",
       "    </tr>\n",
       "    <tr>\n",
       "      <th>4</th>\n",
       "      <td>6.5</td>\n",
       "      <td>2.8</td>\n",
       "      <td>4.6</td>\n",
       "      <td>1.5</td>\n",
       "      <td>Iris-versicolor</td>\n",
       "      <td>NaN</td>\n",
       "      <td>NaN</td>\n",
       "      <td>NaN</td>\n",
       "      <td>NaN</td>\n",
       "      <td>0</td>\n",
       "      <td>1</td>\n",
       "    </tr>\n",
       "    <tr>\n",
       "      <th>5</th>\n",
       "      <td>5.7</td>\n",
       "      <td>2.8</td>\n",
       "      <td>4.5</td>\n",
       "      <td>1.3</td>\n",
       "      <td>Iris-versicolor</td>\n",
       "      <td>NaN</td>\n",
       "      <td>NaN</td>\n",
       "      <td>NaN</td>\n",
       "      <td>NaN</td>\n",
       "      <td>0</td>\n",
       "      <td>1</td>\n",
       "    </tr>\n",
       "    <tr>\n",
       "      <th>6</th>\n",
       "      <td>6.3</td>\n",
       "      <td>3.3</td>\n",
       "      <td>4.7</td>\n",
       "      <td>1.6</td>\n",
       "      <td>Iris-versicolor</td>\n",
       "      <td>NaN</td>\n",
       "      <td>NaN</td>\n",
       "      <td>NaN</td>\n",
       "      <td>NaN</td>\n",
       "      <td>0</td>\n",
       "      <td>1</td>\n",
       "    </tr>\n",
       "    <tr>\n",
       "      <th>7</th>\n",
       "      <td>4.9</td>\n",
       "      <td>2.4</td>\n",
       "      <td>3.3</td>\n",
       "      <td>1.0</td>\n",
       "      <td>Iris-versicolor</td>\n",
       "      <td>NaN</td>\n",
       "      <td>NaN</td>\n",
       "      <td>NaN</td>\n",
       "      <td>NaN</td>\n",
       "      <td>0</td>\n",
       "      <td>1</td>\n",
       "    </tr>\n",
       "  </tbody>\n",
       "</table>\n",
       "</div>"
      ],
      "text/plain": [
       "   Sepal Length (cm)  Sepal Width (cm)  Petal Length (cm)  Petal Width (cm)  \\\n",
       "0                7.0               3.2                4.7               1.4   \n",
       "1                6.4               3.2                4.5               1.5   \n",
       "2                6.9               3.1                4.9               1.5   \n",
       "3                5.5               2.3                4.0               1.3   \n",
       "4                6.5               2.8                4.6               1.5   \n",
       "5                5.7               2.8                4.5               1.3   \n",
       "6                6.3               3.3                4.7               1.6   \n",
       "7                4.9               2.4                3.3               1.0   \n",
       "\n",
       "             Class  Unnamed: 5  Unnamed: 6  alpha  obj  Unnamed: 9  \\\n",
       "0  Iris-versicolor         NaN         0.0    0.0  0.0           0   \n",
       "1  Iris-versicolor         NaN         0.0    NaN  NaN           0   \n",
       "2  Iris-versicolor         NaN         0.0    NaN  NaN           0   \n",
       "3  Iris-versicolor         NaN         0.0    NaN  NaN           0   \n",
       "4  Iris-versicolor         NaN         NaN    NaN  NaN           0   \n",
       "5  Iris-versicolor         NaN         NaN    NaN  NaN           0   \n",
       "6  Iris-versicolor         NaN         NaN    NaN  NaN           0   \n",
       "7  Iris-versicolor         NaN         NaN    NaN  NaN           0   \n",
       "\n",
       "   Unnamed: 10  \n",
       "0            1  \n",
       "1            1  \n",
       "2            1  \n",
       "3            1  \n",
       "4            1  \n",
       "5            1  \n",
       "6            1  \n",
       "7            1  "
      ]
     },
     "execution_count": 6,
     "metadata": {},
     "output_type": "execute_result"
    }
   ],
   "source": [
    "df.head(8)"
   ]
  },
  {
   "cell_type": "markdown",
   "id": "19b838cc-61be-4b7f-8f78-ffea27ac3d37",
   "metadata": {},
   "source": [
    "# 3. Displaying odd numbers"
   ]
  },
  {
   "cell_type": "code",
   "execution_count": 12,
   "id": "336d3d07-639b-4488-8899-e4f697487996",
   "metadata": {},
   "outputs": [
    {
     "name": "stdout",
     "output_type": "stream",
     "text": [
      "    Sepal Length (cm)  Sepal Width (cm)  Petal Length (cm)  Petal Width (cm)  \\\n",
      "1                 6.4               3.2                4.5               1.5   \n",
      "3                 5.5               2.3                4.0               1.3   \n",
      "5                 5.7               2.8                4.5               1.3   \n",
      "7                 4.9               2.4                3.3               1.0   \n",
      "9                 5.2               2.7                3.9               1.4   \n",
      "11                5.9               3.0                4.2               1.5   \n",
      "13                6.1               2.9                4.7               1.4   \n",
      "15                6.7               3.1                4.4               1.4   \n",
      "17                5.8               2.7                4.1               1.0   \n",
      "19                5.6               2.5                3.9               1.1   \n",
      "21                6.1               2.8                4.0               1.3   \n",
      "23                6.1               2.8                4.7               1.2   \n",
      "25                6.6               3.0                4.4               1.4   \n",
      "27                6.7               3.0                5.0               1.7   \n",
      "29                5.7               2.6                3.5               1.0   \n",
      "31                5.5               2.4                3.7               1.0   \n",
      "33                6.0               2.7                5.1               1.6   \n",
      "35                6.0               3.4                4.5               1.6   \n",
      "37                6.3               2.3                4.4               1.3   \n",
      "39                5.5               2.5                4.0               1.3   \n",
      "41                6.1               3.0                4.6               1.4   \n",
      "43                5.0               2.3                3.3               1.0   \n",
      "45                5.7               3.0                4.2               1.2   \n",
      "47                6.2               2.9                4.3               1.3   \n",
      "49                5.7               2.8                4.1               1.3   \n",
      "51                4.9               3.0                1.4               0.2   \n",
      "53                4.6               3.1                1.5               0.2   \n",
      "55                5.4               3.9                1.7               0.4   \n",
      "57                5.0               3.4                1.5               0.2   \n",
      "59                4.9               3.1                1.5               0.1   \n",
      "61                4.8               3.4                1.6               0.2   \n",
      "63                4.3               3.0                1.1               0.1   \n",
      "65                5.7               4.4                1.5               0.4   \n",
      "67                5.1               3.5                1.4               0.3   \n",
      "69                5.1               3.8                1.5               0.3   \n",
      "71                5.1               3.7                1.5               0.4   \n",
      "73                5.1               3.3                1.7               0.5   \n",
      "75                5.0               3.0                1.6               0.2   \n",
      "77                5.2               3.5                1.5               0.2   \n",
      "79                4.7               3.2                1.6               0.2   \n",
      "81                5.4               3.4                1.5               0.4   \n",
      "83                5.5               4.2                1.4               0.2   \n",
      "85                5.0               3.2                1.2               0.2   \n",
      "87                4.9               3.1                1.5               0.1   \n",
      "89                5.1               3.4                1.5               0.2   \n",
      "91                4.5               2.3                1.3               0.3   \n",
      "93                5.0               3.5                1.6               0.6   \n",
      "95                4.8               3.0                1.4               0.3   \n",
      "97                4.6               3.2                1.4               0.2   \n",
      "99                5.0               3.3                1.4               0.2   \n",
      "\n",
      "              Class  Unnamed: 5  Unnamed: 6  alpha  obj  Unnamed: 9  \\\n",
      "1   Iris-versicolor         NaN         0.0    NaN  NaN           0   \n",
      "3   Iris-versicolor         NaN         0.0    NaN  NaN           0   \n",
      "5   Iris-versicolor         NaN         NaN    NaN  NaN           0   \n",
      "7   Iris-versicolor         NaN         NaN    NaN  NaN           0   \n",
      "9   Iris-versicolor         NaN         NaN    NaN  NaN           0   \n",
      "11  Iris-versicolor         NaN         NaN    NaN  NaN           0   \n",
      "13  Iris-versicolor         NaN         NaN    NaN  NaN           0   \n",
      "15  Iris-versicolor         NaN         NaN    NaN  NaN           0   \n",
      "17  Iris-versicolor         NaN         NaN    NaN  NaN           0   \n",
      "19  Iris-versicolor         NaN         NaN    NaN  NaN           0   \n",
      "21  Iris-versicolor         NaN         NaN    NaN  NaN           0   \n",
      "23  Iris-versicolor         NaN         NaN    NaN  NaN           0   \n",
      "25  Iris-versicolor         NaN         NaN    NaN  NaN           0   \n",
      "27  Iris-versicolor         NaN         NaN    NaN  NaN           0   \n",
      "29  Iris-versicolor         NaN         NaN    NaN  NaN           0   \n",
      "31  Iris-versicolor         NaN         NaN    NaN  NaN           0   \n",
      "33  Iris-versicolor         NaN         NaN    NaN  NaN           0   \n",
      "35  Iris-versicolor         NaN         NaN    NaN  NaN           0   \n",
      "37  Iris-versicolor         NaN         NaN    NaN  NaN           0   \n",
      "39  Iris-versicolor         NaN         NaN    NaN  NaN           0   \n",
      "41  Iris-versicolor         NaN         NaN    NaN  NaN           0   \n",
      "43  Iris-versicolor         NaN         NaN    NaN  NaN           0   \n",
      "45  Iris-versicolor         NaN         NaN    NaN  NaN           0   \n",
      "47  Iris-versicolor         NaN         NaN    NaN  NaN           0   \n",
      "49  Iris-versicolor         NaN         NaN    NaN  NaN           0   \n",
      "51      Iris-setosa         NaN         NaN    NaN  NaN           0   \n",
      "53      Iris-setosa         NaN         NaN    NaN  NaN           0   \n",
      "55      Iris-setosa         NaN         NaN    NaN  NaN           0   \n",
      "57      Iris-setosa         NaN         NaN    NaN  NaN           0   \n",
      "59      Iris-setosa         NaN         NaN    NaN  NaN           0   \n",
      "61      Iris-setosa         NaN         NaN    NaN  NaN           0   \n",
      "63      Iris-setosa         NaN         NaN    NaN  NaN           0   \n",
      "65      Iris-setosa         NaN         NaN    NaN  NaN           0   \n",
      "67      Iris-setosa         NaN         NaN    NaN  NaN           0   \n",
      "69      Iris-setosa         NaN         NaN    NaN  NaN           0   \n",
      "71      Iris-setosa         NaN         NaN    NaN  NaN           0   \n",
      "73      Iris-setosa         NaN         NaN    NaN  NaN           0   \n",
      "75      Iris-setosa         NaN         NaN    NaN  NaN           0   \n",
      "77      Iris-setosa         NaN         NaN    NaN  NaN           0   \n",
      "79      Iris-setosa         NaN         NaN    NaN  NaN           0   \n",
      "81      Iris-setosa         NaN         NaN    NaN  NaN           0   \n",
      "83      Iris-setosa         NaN         NaN    NaN  NaN           0   \n",
      "85      Iris-setosa         NaN         NaN    NaN  NaN           0   \n",
      "87      Iris-setosa         NaN         NaN    NaN  NaN           0   \n",
      "89      Iris-setosa         NaN         NaN    NaN  NaN           0   \n",
      "91      Iris-setosa         NaN         NaN    NaN  NaN           0   \n",
      "93      Iris-setosa         NaN         NaN    NaN  NaN           0   \n",
      "95      Iris-setosa         NaN         NaN    NaN  NaN           0   \n",
      "97      Iris-setosa         NaN         NaN    NaN  NaN           0   \n",
      "99      Iris-setosa         NaN         NaN    NaN  NaN           0   \n",
      "\n",
      "    Unnamed: 10  \n",
      "1             1  \n",
      "3             1  \n",
      "5             1  \n",
      "7             1  \n",
      "9             1  \n",
      "11            1  \n",
      "13            1  \n",
      "15            1  \n",
      "17            1  \n",
      "19            1  \n",
      "21            1  \n",
      "23            1  \n",
      "25            1  \n",
      "27            1  \n",
      "29            1  \n",
      "31            1  \n",
      "33            1  \n",
      "35            1  \n",
      "37            1  \n",
      "39            1  \n",
      "41            1  \n",
      "43            1  \n",
      "45            1  \n",
      "47            1  \n",
      "49            1  \n",
      "51            1  \n",
      "53            1  \n",
      "55            1  \n",
      "57            1  \n",
      "59            1  \n",
      "61            1  \n",
      "63            1  \n",
      "65            1  \n",
      "67            1  \n",
      "69            1  \n",
      "71            1  \n",
      "73            1  \n",
      "75            1  \n",
      "77            1  \n",
      "79            1  \n",
      "81            1  \n",
      "83            1  \n",
      "85            1  \n",
      "87            1  \n",
      "89            1  \n",
      "91            1  \n",
      "93            1  \n",
      "95            1  \n",
      "97            1  \n",
      "99            1  \n"
     ]
    }
   ],
   "source": [
    "odd = df.iloc[1::2]\n",
    "print(odd)"
   ]
  },
  {
   "cell_type": "code",
   "execution_count": 13,
   "id": "534570e6-8b08-4c43-b576-b083f03e8984",
   "metadata": {},
   "outputs": [
    {
     "name": "stdout",
     "output_type": "stream",
     "text": [
      "    Sepal Length (cm)  Sepal Width (cm)  Petal Length (cm)  Petal Width (cm)  \\\n",
      "17                5.8               2.7                4.1               1.0   \n",
      "81                5.4               3.4                1.5               0.4   \n",
      "61                4.8               3.4                1.6               0.2   \n",
      "7                 4.9               2.4                3.3               1.0   \n",
      "31                5.5               2.4                3.7               1.0   \n",
      "\n",
      "              Class  Unnamed: 5  Unnamed: 6  alpha  obj  Unnamed: 9  \\\n",
      "17  Iris-versicolor         NaN         NaN    NaN  NaN           0   \n",
      "81      Iris-setosa         NaN         NaN    NaN  NaN           0   \n",
      "61      Iris-setosa         NaN         NaN    NaN  NaN           0   \n",
      "7   Iris-versicolor         NaN         NaN    NaN  NaN           0   \n",
      "31  Iris-versicolor         NaN         NaN    NaN  NaN           0   \n",
      "\n",
      "    Unnamed: 10  \n",
      "17            1  \n",
      "81            1  \n",
      "61            1  \n",
      "7             1  \n",
      "31            1  \n"
     ]
    }
   ],
   "source": [
    "n = 5  \n",
    "if n % 2 == 0 or n > len(odd):\n",
    "    raise ValueError(\"n must be an odd number and less than or equal to the number of odd rows\")\n",
    "sampled_odd = odd.sample(n=n)\n",
    "print(sampled_odd)"
   ]
  },
  {
   "cell_type": "markdown",
   "id": "6192a220-7eff-4ab9-b8b6-2a65f440924b",
   "metadata": {},
   "source": [
    "# 4. Column display"
   ]
  },
  {
   "cell_type": "code",
   "execution_count": 15,
   "id": "a585295d-4327-4971-89b5-36609221fec0",
   "metadata": {},
   "outputs": [
    {
     "name": "stdout",
     "output_type": "stream",
     "text": [
      "no. of columns: 11\n",
      "name of columns:  ['Sepal Length (cm)', 'Sepal Width (cm)', 'Petal Length (cm)', 'Petal Width (cm)', 'Class', 'Unnamed: 5', 'Unnamed: 6', 'alpha', 'obj', 'Unnamed: 9', 'Unnamed: 10']\n"
     ]
    }
   ],
   "source": [
    "num = df.shape[1]\n",
    "print('no. of columns:', num)\n",
    "column_names = df.columns.tolist()\n",
    "print('name of columns: ',column_names)"
   ]
  },
  {
   "cell_type": "markdown",
   "id": "78c55dd2-9399-456a-9191-84aa54d2ddfa",
   "metadata": {},
   "source": [
    "# 5. Shape of dataset"
   ]
  },
  {
   "cell_type": "code",
   "execution_count": 9,
   "id": "fb867965-bd8e-4111-ad50-0d4c7a554c42",
   "metadata": {},
   "outputs": [
    {
     "data": {
      "text/plain": [
       "(100, 11)"
      ]
     },
     "execution_count": 9,
     "metadata": {},
     "output_type": "execute_result"
    }
   ],
   "source": [
    "df.shape"
   ]
  },
  {
   "cell_type": "markdown",
   "id": "09c923a1-2d94-49f1-8558-c89f0cf7851d",
   "metadata": {},
   "source": [
    "# 6. Slicing the rows"
   ]
  },
  {
   "cell_type": "code",
   "execution_count": 16,
   "id": "ec1b06b5-dc2b-42fe-aadf-a31a197db657",
   "metadata": {},
   "outputs": [
    {
     "name": "stdout",
     "output_type": "stream",
     "text": [
      "    Sepal Length (cm)  Sepal Width (cm)  Petal Length (cm)  Petal Width (cm)  \\\n",
      "10                5.0               2.0                3.5               1.0   \n",
      "11                5.9               3.0                4.2               1.5   \n",
      "12                6.0               2.2                4.0               1.0   \n",
      "13                6.1               2.9                4.7               1.4   \n",
      "14                5.6               2.9                3.6               1.3   \n",
      "15                6.7               3.1                4.4               1.4   \n",
      "16                5.6               3.0                4.5               1.5   \n",
      "17                5.8               2.7                4.1               1.0   \n",
      "18                6.2               2.2                4.5               1.5   \n",
      "19                5.6               2.5                3.9               1.1   \n",
      "20                5.9               3.2                4.8               1.8   \n",
      "\n",
      "              Class  Unnamed: 5  Unnamed: 6  alpha  obj  Unnamed: 9  \\\n",
      "10  Iris-versicolor         NaN         NaN    NaN  NaN           0   \n",
      "11  Iris-versicolor         NaN         NaN    NaN  NaN           0   \n",
      "12  Iris-versicolor         NaN         NaN    NaN  NaN           0   \n",
      "13  Iris-versicolor         NaN         NaN    NaN  NaN           0   \n",
      "14  Iris-versicolor         NaN         NaN    NaN  NaN           0   \n",
      "15  Iris-versicolor         NaN         NaN    NaN  NaN           0   \n",
      "16  Iris-versicolor         NaN         NaN    NaN  NaN           0   \n",
      "17  Iris-versicolor         NaN         NaN    NaN  NaN           0   \n",
      "18  Iris-versicolor         NaN         NaN    NaN  NaN           0   \n",
      "19  Iris-versicolor         NaN         NaN    NaN  NaN           0   \n",
      "20  Iris-versicolor         NaN         NaN    NaN  NaN           0   \n",
      "\n",
      "    Unnamed: 10  \n",
      "10            1  \n",
      "11            1  \n",
      "12            1  \n",
      "13            1  \n",
      "14            1  \n",
      "15            1  \n",
      "16            1  \n",
      "17            1  \n",
      "18            1  \n",
      "19            1  \n",
      "20            1  \n"
     ]
    }
   ],
   "source": [
    "slice = df.iloc[10:21]\n",
    "print(slice)"
   ]
  },
  {
   "cell_type": "markdown",
   "id": "24d0b626-c5c8-43c2-aa79-849350af67e4",
   "metadata": {},
   "source": [
    "# 7. Displaying specific columns"
   ]
  },
  {
   "cell_type": "code",
   "execution_count": 20,
   "id": "ff872a6b-da9b-4105-bab3-7d8721bb0647",
   "metadata": {},
   "outputs": [
    {
     "name": "stdout",
     "output_type": "stream",
     "text": [
      "    Sepal Width (cm)  Petal Length (cm)            Class\n",
      "0                3.2                4.7  Iris-versicolor\n",
      "1                3.2                4.5  Iris-versicolor\n",
      "2                3.1                4.9  Iris-versicolor\n",
      "3                2.3                4.0  Iris-versicolor\n",
      "4                2.8                4.6  Iris-versicolor\n",
      "..               ...                ...              ...\n",
      "95               3.0                1.4      Iris-setosa\n",
      "96               3.8                1.6      Iris-setosa\n",
      "97               3.2                1.4      Iris-setosa\n",
      "98               3.7                1.5      Iris-setosa\n",
      "99               3.3                1.4      Iris-setosa\n",
      "\n",
      "[100 rows x 3 columns]\n"
     ]
    }
   ],
   "source": [
    "dis_col = ['Sepal Width (cm)', 'Petal Length (cm)', 'Class']\n",
    "\n",
    "specific = df[dis_col]\n",
    "\n",
    "print(specific)"
   ]
  },
  {
   "cell_type": "markdown",
   "id": "f0d2c65a-655c-4e2a-ae38-d6a41bfca985",
   "metadata": {},
   "source": [
    "# 8. Displaying specific rows"
   ]
  },
  {
   "cell_type": "code",
   "execution_count": 22,
   "id": "25e3713d-f069-4a12-9820-87176bfa4ee3",
   "metadata": {},
   "outputs": [
    {
     "name": "stdout",
     "output_type": "stream",
     "text": [
      "    Sepal Length (cm)  Sepal Width (cm)  Petal Length (cm)  Petal Width (cm)  \\\n",
      "10                5.0               2.0                3.5               1.0   \n",
      "11                5.9               3.0                4.2               1.5   \n",
      "12                6.0               2.2                4.0               1.0   \n",
      "13                6.1               2.9                4.7               1.4   \n",
      "14                5.6               2.9                3.6               1.3   \n",
      "15                6.7               3.1                4.4               1.4   \n",
      "16                5.6               3.0                4.5               1.5   \n",
      "17                5.8               2.7                4.1               1.0   \n",
      "18                6.2               2.2                4.5               1.5   \n",
      "19                5.6               2.5                3.9               1.1   \n",
      "20                5.9               3.2                4.8               1.8   \n",
      "\n",
      "              Class  Unnamed: 5  Unnamed: 6  alpha  obj  Unnamed: 9  \\\n",
      "10  Iris-versicolor         NaN         NaN    NaN  NaN           0   \n",
      "11  Iris-versicolor         NaN         NaN    NaN  NaN           0   \n",
      "12  Iris-versicolor         NaN         NaN    NaN  NaN           0   \n",
      "13  Iris-versicolor         NaN         NaN    NaN  NaN           0   \n",
      "14  Iris-versicolor         NaN         NaN    NaN  NaN           0   \n",
      "15  Iris-versicolor         NaN         NaN    NaN  NaN           0   \n",
      "16  Iris-versicolor         NaN         NaN    NaN  NaN           0   \n",
      "17  Iris-versicolor         NaN         NaN    NaN  NaN           0   \n",
      "18  Iris-versicolor         NaN         NaN    NaN  NaN           0   \n",
      "19  Iris-versicolor         NaN         NaN    NaN  NaN           0   \n",
      "20  Iris-versicolor         NaN         NaN    NaN  NaN           0   \n",
      "\n",
      "    Unnamed: 10  \n",
      "10            1  \n",
      "11            1  \n",
      "12            1  \n",
      "13            1  \n",
      "14            1  \n",
      "15            1  \n",
      "16            1  \n",
      "17            1  \n",
      "18            1  \n",
      "19            1  \n",
      "20            1  \n"
     ]
    }
   ],
   "source": [
    "a = df.iloc[10:21]\n",
    "\n",
    "print(a)"
   ]
  },
  {
   "cell_type": "code",
   "execution_count": 23,
   "id": "1c353dfa-c75a-4288-91aa-c6d92845dcd4",
   "metadata": {},
   "outputs": [
    {
     "name": "stdout",
     "output_type": "stream",
     "text": [
      "    Sepal Length (cm)  Sepal Width (cm)  Petal Length (cm)  Petal Width (cm)  \\\n",
      "20                5.9               3.2                4.8               1.8   \n",
      "21                6.1               2.8                4.0               1.3   \n",
      "22                6.3               2.5                4.9               1.5   \n",
      "23                6.1               2.8                4.7               1.2   \n",
      "24                6.4               2.9                4.3               1.3   \n",
      "25                6.6               3.0                4.4               1.4   \n",
      "26                6.8               2.8                4.8               1.4   \n",
      "27                6.7               3.0                5.0               1.7   \n",
      "28                6.0               2.9                4.5               1.5   \n",
      "29                5.7               2.6                3.5               1.0   \n",
      "30                5.5               2.4                3.8               1.1   \n",
      "\n",
      "              Class  Unnamed: 5  Unnamed: 6  alpha  obj  Unnamed: 9  \\\n",
      "20  Iris-versicolor         NaN         NaN    NaN  NaN           0   \n",
      "21  Iris-versicolor         NaN         NaN    NaN  NaN           0   \n",
      "22  Iris-versicolor         NaN         NaN    NaN  NaN           0   \n",
      "23  Iris-versicolor         NaN         NaN    NaN  NaN           0   \n",
      "24  Iris-versicolor         NaN         NaN    NaN  NaN           0   \n",
      "25  Iris-versicolor         NaN         NaN    NaN  NaN           0   \n",
      "26  Iris-versicolor         NaN         NaN    NaN  NaN           0   \n",
      "27  Iris-versicolor         NaN         NaN    NaN  NaN           0   \n",
      "28  Iris-versicolor         NaN         NaN    NaN  NaN           0   \n",
      "29  Iris-versicolor         NaN         NaN    NaN  NaN           0   \n",
      "30  Iris-versicolor         NaN         NaN    NaN  NaN           0   \n",
      "\n",
      "    Unnamed: 10  \n",
      "20            1  \n",
      "21            1  \n",
      "22            1  \n",
      "23            1  \n",
      "24            1  \n",
      "25            1  \n",
      "26            1  \n",
      "27            1  \n",
      "28            1  \n",
      "29            1  \n",
      "30            1  \n"
     ]
    }
   ],
   "source": [
    "a2 = df.loc[20:30]\n",
    "\n",
    "print(a2)"
   ]
  },
  {
   "cell_type": "markdown",
   "id": "17bff338-6992-4e28-96f0-e8cdc78aa360",
   "metadata": {},
   "source": [
    "# 9. Calculate sum, mean , mode of a column"
   ]
  },
  {
   "cell_type": "code",
   "execution_count": 25,
   "id": "13d0cc21-43a3-4ef7-bf3c-b68c6a4bdbfb",
   "metadata": {},
   "outputs": [
    {
     "name": "stdout",
     "output_type": "stream",
     "text": [
      "Sum of Sepal Length (cm): 547.1\n",
      "Mean of Sepal Length (cm): 5.471\n",
      "Mode of Sepal Length (cm): 5.0\n"
     ]
    }
   ],
   "source": [
    "c_name = 'Sepal Length (cm)'\n",
    "c_sum = df[c_name].sum()\n",
    "\n",
    "c_mean = df[c_name].mean()\n",
    "\n",
    "def calculate_mode(column):\n",
    "    counts = column.value_counts()\n",
    "    return counts.idxmax()\n",
    "\n",
    "c_mode = calculate_mode(df[c_name])\n",
    "\n",
    "\n",
    "print(f\"Sum of {c_name}: {c_sum}\")\n",
    "print(f\"Mean of {c_name}: {c_mean}\")\n",
    "print(f\"Mode of {c_name}: {c_mode}\")"
   ]
  },
  {
   "cell_type": "markdown",
   "id": "a33c4ead-2c98-4dd2-bffa-da345c58e86c",
   "metadata": {},
   "source": [
    "# 10. Extracting min and max of a column"
   ]
  },
  {
   "cell_type": "code",
   "execution_count": 27,
   "id": "d424dbc9-1708-4ac6-97e4-50f2898055ee",
   "metadata": {},
   "outputs": [
    {
     "name": "stdout",
     "output_type": "stream",
     "text": [
      "minimum value of Sepal Length (cm): 4.3\n",
      "maximum value of Sepal Length (cm): 7.0\n"
     ]
    }
   ],
   "source": [
    "c_min = df[c_name].min()\n",
    "c_max = df[c_name].max()\n",
    "\n",
    "print(f\"minimum value of {c_name}: {c_min}\")\n",
    "print(f\"maximum value of {c_name}: {c_max}\")"
   ]
  },
  {
   "cell_type": "markdown",
   "id": "1c01e6b1-f02b-47cd-992e-c69b5dca9fc1",
   "metadata": {},
   "source": [
    "# 11. Adding a column"
   ]
  },
  {
   "cell_type": "code",
   "execution_count": 28,
   "id": "baeb649c-b75d-4325-a3b8-68e3af202ccc",
   "metadata": {},
   "outputs": [
    {
     "data": {
      "text/html": [
       "<div>\n",
       "<style scoped>\n",
       "    .dataframe tbody tr th:only-of-type {\n",
       "        vertical-align: middle;\n",
       "    }\n",
       "\n",
       "    .dataframe tbody tr th {\n",
       "        vertical-align: top;\n",
       "    }\n",
       "\n",
       "    .dataframe thead th {\n",
       "        text-align: right;\n",
       "    }\n",
       "</style>\n",
       "<table border=\"1\" class=\"dataframe\">\n",
       "  <thead>\n",
       "    <tr style=\"text-align: right;\">\n",
       "      <th></th>\n",
       "      <th>Sepal Length (cm)</th>\n",
       "      <th>Sepal Width (cm)</th>\n",
       "      <th>Petal Length (cm)</th>\n",
       "      <th>Petal Width (cm)</th>\n",
       "      <th>Class</th>\n",
       "      <th>Unnamed: 5</th>\n",
       "      <th>Unnamed: 6</th>\n",
       "      <th>alpha</th>\n",
       "      <th>obj</th>\n",
       "      <th>Unnamed: 9</th>\n",
       "      <th>Unnamed: 10</th>\n",
       "      <th>New Column</th>\n",
       "    </tr>\n",
       "  </thead>\n",
       "  <tbody>\n",
       "    <tr>\n",
       "      <th>88</th>\n",
       "      <td>4.4</td>\n",
       "      <td>3.0</td>\n",
       "      <td>1.3</td>\n",
       "      <td>0.2</td>\n",
       "      <td>Iris-setosa</td>\n",
       "      <td>NaN</td>\n",
       "      <td>NaN</td>\n",
       "      <td>NaN</td>\n",
       "      <td>NaN</td>\n",
       "      <td>0</td>\n",
       "      <td>1</td>\n",
       "      <td>a</td>\n",
       "    </tr>\n",
       "  </tbody>\n",
       "</table>\n",
       "</div>"
      ],
      "text/plain": [
       "    Sepal Length (cm)  Sepal Width (cm)  Petal Length (cm)  Petal Width (cm)  \\\n",
       "88                4.4               3.0                1.3               0.2   \n",
       "\n",
       "          Class  Unnamed: 5  Unnamed: 6  alpha  obj  Unnamed: 9  Unnamed: 10  \\\n",
       "88  Iris-setosa         NaN         NaN    NaN  NaN           0            1   \n",
       "\n",
       "   New Column  \n",
       "88          a  "
      ]
     },
     "execution_count": 28,
     "metadata": {},
     "output_type": "execute_result"
    }
   ],
   "source": [
    "df['New Column'] = ['a'] * 100\n",
    "\n",
    "df.sample()"
   ]
  },
  {
   "cell_type": "markdown",
   "id": "dfaa52b8-0e3c-4eb6-966f-a8422fbed90a",
   "metadata": {},
   "source": [
    "# 12. Renaming column"
   ]
  },
  {
   "cell_type": "code",
   "execution_count": 29,
   "id": "70ed1c2e-6133-4113-9979-908b3c525774",
   "metadata": {},
   "outputs": [
    {
     "data": {
      "text/html": [
       "<div>\n",
       "<style scoped>\n",
       "    .dataframe tbody tr th:only-of-type {\n",
       "        vertical-align: middle;\n",
       "    }\n",
       "\n",
       "    .dataframe tbody tr th {\n",
       "        vertical-align: top;\n",
       "    }\n",
       "\n",
       "    .dataframe thead th {\n",
       "        text-align: right;\n",
       "    }\n",
       "</style>\n",
       "<table border=\"1\" class=\"dataframe\">\n",
       "  <thead>\n",
       "    <tr style=\"text-align: right;\">\n",
       "      <th></th>\n",
       "      <th>sl</th>\n",
       "      <th>Sepal Width (cm)</th>\n",
       "      <th>Petal Length (cm)</th>\n",
       "      <th>pw</th>\n",
       "      <th>Class</th>\n",
       "      <th>Unnamed: 5</th>\n",
       "      <th>Unnamed: 6</th>\n",
       "      <th>alpha</th>\n",
       "      <th>obj</th>\n",
       "      <th>Unnamed: 9</th>\n",
       "      <th>Unnamed: 10</th>\n",
       "      <th>New Column</th>\n",
       "    </tr>\n",
       "  </thead>\n",
       "  <tbody>\n",
       "    <tr>\n",
       "      <th>90</th>\n",
       "      <td>5.0</td>\n",
       "      <td>3.5</td>\n",
       "      <td>1.3</td>\n",
       "      <td>0.3</td>\n",
       "      <td>Iris-setosa</td>\n",
       "      <td>NaN</td>\n",
       "      <td>NaN</td>\n",
       "      <td>NaN</td>\n",
       "      <td>NaN</td>\n",
       "      <td>0</td>\n",
       "      <td>1</td>\n",
       "      <td>a</td>\n",
       "    </tr>\n",
       "  </tbody>\n",
       "</table>\n",
       "</div>"
      ],
      "text/plain": [
       "     sl  Sepal Width (cm)  Petal Length (cm)   pw        Class  Unnamed: 5  \\\n",
       "90  5.0               3.5                1.3  0.3  Iris-setosa         NaN   \n",
       "\n",
       "    Unnamed: 6  alpha  obj  Unnamed: 9  Unnamed: 10 New Column  \n",
       "90         NaN    NaN  NaN           0            1          a  "
      ]
     },
     "execution_count": 29,
     "metadata": {},
     "output_type": "execute_result"
    }
   ],
   "source": [
    "b = df.rename(columns={'Sepal Length (cm)': 'sl', 'Petal Width (cm)': 'pw'})\n",
    "\n",
    "b.sample()"
   ]
  },
  {
   "cell_type": "markdown",
   "id": "50d4d2e7-e3c2-48e7-831b-340d2dcc173a",
   "metadata": {},
   "source": [
    "# 13. Cleaning and detecting missing values"
   ]
  },
  {
   "cell_type": "code",
   "execution_count": 30,
   "id": "94241193-00ac-4b24-8eae-3fe5173d4c96",
   "metadata": {},
   "outputs": [
    {
     "data": {
      "text/plain": [
       "Sepal Length (cm)      0\n",
       "Sepal Width (cm)       0\n",
       "Petal Length (cm)      0\n",
       "Petal Width (cm)       0\n",
       "Class                  0\n",
       "Unnamed: 5           100\n",
       "Unnamed: 6            96\n",
       "alpha                 99\n",
       "obj                   99\n",
       "Unnamed: 9             0\n",
       "Unnamed: 10            0\n",
       "New Column             0\n",
       "dtype: int64"
      ]
     },
     "execution_count": 30,
     "metadata": {},
     "output_type": "execute_result"
    }
   ],
   "source": [
    "mv = df.isnull().sum()\n",
    "mv"
   ]
  },
  {
   "cell_type": "code",
   "execution_count": 32,
   "id": "2fada9e4-d584-49b2-98af-665a632faaac",
   "metadata": {},
   "outputs": [
    {
     "name": "stdout",
     "output_type": "stream",
     "text": [
      "Missing Values\n",
      "Sepal Length (cm)      0\n",
      "Sepal Width (cm)       0\n",
      "Petal Length (cm)      0\n",
      "Petal Width (cm)       0\n",
      "Class                  0\n",
      "Unnamed: 5           100\n",
      "Unnamed: 6            96\n",
      "alpha                 99\n",
      "obj                   99\n",
      "Unnamed: 9             0\n",
      "Unnamed: 10            0\n",
      "New Column             0\n",
      "dtype: int64\n",
      "\n",
      "Cleaned DataFrame:\n",
      "    Sepal Length (cm)  Sepal Width (cm)  Petal Length (cm)  Petal Width (cm)  \\\n",
      "0                 7.0               3.2                4.7               1.4   \n",
      "1                 6.4               3.2                4.5               1.5   \n",
      "2                 6.9               3.1                4.9               1.5   \n",
      "3                 5.5               2.3                4.0               1.3   \n",
      "4                 6.5               2.8                4.6               1.5   \n",
      "..                ...               ...                ...               ...   \n",
      "95                4.8               3.0                1.4               0.3   \n",
      "96                5.1               3.8                1.6               0.2   \n",
      "97                4.6               3.2                1.4               0.2   \n",
      "98                5.3               3.7                1.5               0.2   \n",
      "99                5.0               3.3                1.4               0.2   \n",
      "\n",
      "              Class  Unnamed: 5  Unnamed: 6  alpha  obj  Unnamed: 9  \\\n",
      "0   Iris-versicolor         NaN         0.0    0.0  0.0           0   \n",
      "1   Iris-versicolor         NaN         0.0    0.0  0.0           0   \n",
      "2   Iris-versicolor         NaN         0.0    0.0  0.0           0   \n",
      "3   Iris-versicolor         NaN         0.0    0.0  0.0           0   \n",
      "4   Iris-versicolor         NaN         0.0    0.0  0.0           0   \n",
      "..              ...         ...         ...    ...  ...         ...   \n",
      "95      Iris-setosa         NaN         0.0    0.0  0.0           0   \n",
      "96      Iris-setosa         NaN         0.0    0.0  0.0           0   \n",
      "97      Iris-setosa         NaN         0.0    0.0  0.0           0   \n",
      "98      Iris-setosa         NaN         0.0    0.0  0.0           0   \n",
      "99      Iris-setosa         NaN         0.0    0.0  0.0           0   \n",
      "\n",
      "    Unnamed: 10 New Column  \n",
      "0             1          a  \n",
      "1             1          a  \n",
      "2             1          a  \n",
      "3             1          a  \n",
      "4             1          a  \n",
      "..          ...        ...  \n",
      "95            1          a  \n",
      "96            1          a  \n",
      "97            1          a  \n",
      "98            1          a  \n",
      "99            1          a  \n",
      "\n",
      "[100 rows x 12 columns]\n"
     ]
    }
   ],
   "source": [
    "df['Unnamed: 5'].fillna(df['Unnamed: 5'].mean(), inplace=True)\n",
    "df['Unnamed: 6'].fillna(df['Unnamed: 6'].mean(), inplace=True)\n",
    "df['alpha'].fillna(df['alpha'].mean(), inplace=True)\n",
    "df['obj'].fillna(df['obj'].mean(), inplace=True)\n",
    "\n",
    "print(\"Missing Values\")\n",
    "print(mv)\n",
    "\n",
    "# Print cleaned DataFrame\n",
    "print(\"\\nCleaned DataFrame:\")\n",
    "print(df)"
   ]
  },
  {
   "cell_type": "markdown",
   "id": "f0e9ca21-b182-4f1f-972b-a843e0c2d6aa",
   "metadata": {},
   "source": [
    "# 14. Heatmap"
   ]
  },
  {
   "cell_type": "code",
   "execution_count": 33,
   "id": "f4e8c2e2-f1b4-4f0a-8938-5d34e8872d4f",
   "metadata": {},
   "outputs": [
    {
     "name": "stderr",
     "output_type": "stream",
     "text": [
      "C:\\Users\\dell\\anaconda3\\Training\\Lib\\site-packages\\seaborn\\matrix.py:260: FutureWarning: Format strings passed to MaskedConstant are ignored, but in future may error or produce different behavior\n",
      "  annotation = (\"{:\" + self.fmt + \"}\").format(val)\n"
     ]
    },
    {
     "data": {
      "text/plain": [
       "<Axes: >"
      ]
     },
     "execution_count": 33,
     "metadata": {},
     "output_type": "execute_result"
    },
    {
     "data": {
      "image/png": "[encoded data removed]",
      "text/plain": [
       "<Figure size 640x480 with 2 Axes>"
      ]
     },
     "metadata": {},
     "output_type": "display_data"
    }
   ],
   "source": [
    "import seaborn as sns\n",
    "import matplotlib.pyplot as plt\n",
    "numeric_cols = df.select_dtypes(include=['float64', 'int64']).columns\n",
    "corr_matrix = df[numeric_cols].corr()\n",
    "\n",
    "# corr_matrix = df.corr()\n",
    "sns.heatmap(corr_matrix, annot=True, cmap='coolwarm', vmin=-1, vmax=1)\n"
   ]
  },
  {
   "cell_type": "code",
   "execution_count": null,
   "id": "4942ce53-37cc-4745-968a-c70a7399db35",
   "metadata": {},
   "outputs": [],
   "source": []
  }
 ],
 "metadata": {
  "kernelspec": {
   "display_name": "Python 3 (ipykernel)",
   "language": "python",
   "name": "python3"
  },
  "language_info": {
   "codemirror_mode": {
    "name": "ipython",
    "version": 3
   },
   "file_extension": ".py",
   "mimetype": "text/x-python",
   "name": "python",
   "nbconvert_exporter": "python",
   "pygments_lexer": "ipython3",
   "version": "3.11.7"
  }
 },
 "nbformat": 4,
 "nbformat_minor": 5
}
